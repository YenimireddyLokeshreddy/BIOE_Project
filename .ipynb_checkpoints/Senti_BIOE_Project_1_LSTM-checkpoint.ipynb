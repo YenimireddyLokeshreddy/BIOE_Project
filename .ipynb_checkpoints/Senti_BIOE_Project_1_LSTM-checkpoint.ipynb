{
 "cells": [
  {
   "cell_type": "markdown",
   "id": "f751c4c9",
   "metadata": {},
   "source": [
    "# SENTIMENT_SCORE ALONG WITH STOCK PRICE"
   ]
  },
  {
   "cell_type": "code",
   "execution_count": 1,
   "id": "475ed1c9",
   "metadata": {},
   "outputs": [],
   "source": [
    "#installing pandas datareader\n",
    "\n",
    "#!pip install pandas-datareader"
   ]
  },
  {
   "cell_type": "code",
   "execution_count": 2,
   "id": "e3c89368",
   "metadata": {},
   "outputs": [],
   "source": [
    "#!pip install yfinance"
   ]
  },
  {
   "cell_type": "code",
   "execution_count": 3,
   "id": "a09e0d8f",
   "metadata": {},
   "outputs": [],
   "source": [
    "import pandas_datareader as pdr\n",
    "import pandas as pd\n",
    "from datetime import datetime\n",
    "import numpy as np"
   ]
  },
  {
   "cell_type": "code",
   "execution_count": 4,
   "id": "49b98ba7",
   "metadata": {},
   "outputs": [
    {
     "name": "stdout",
     "output_type": "stream",
     "text": [
      "[*********************100%***********************]  1 of 1 completed\n"
     ]
    }
   ],
   "source": [
    "import yfinance as yf\n",
    "\n",
    "# Define the stock symbol and the date range\n",
    "symbol = 'AAPL'\n",
    "start_date = '2020-07-14'\n",
    "end_date = '2023-07-17'\n",
    "\n",
    "# Retrieve the stock data from Yahoo Finance\n",
    "data = yf.download(symbol, start=start_date, end=end_date)\n"
   ]
  },
  {
   "cell_type": "code",
   "execution_count": 5,
   "id": "db4025c0",
   "metadata": {},
   "outputs": [
    {
     "data": {
      "text/html": [
       "<div>\n",
       "<style scoped>\n",
       "    .dataframe tbody tr th:only-of-type {\n",
       "        vertical-align: middle;\n",
       "    }\n",
       "\n",
       "    .dataframe tbody tr th {\n",
       "        vertical-align: top;\n",
       "    }\n",
       "\n",
       "    .dataframe thead th {\n",
       "        text-align: right;\n",
       "    }\n",
       "</style>\n",
       "<table border=\"1\" class=\"dataframe\">\n",
       "  <thead>\n",
       "    <tr style=\"text-align: right;\">\n",
       "      <th></th>\n",
       "      <th>publishedAt</th>\n",
       "      <th>score</th>\n",
       "    </tr>\n",
       "  </thead>\n",
       "  <tbody>\n",
       "    <tr>\n",
       "      <th>0</th>\n",
       "      <td>2020-07-14</td>\n",
       "      <td>0.000000</td>\n",
       "    </tr>\n",
       "    <tr>\n",
       "      <th>1</th>\n",
       "      <td>2020-07-15</td>\n",
       "      <td>0.234960</td>\n",
       "    </tr>\n",
       "    <tr>\n",
       "      <th>2</th>\n",
       "      <td>2020-07-16</td>\n",
       "      <td>0.722932</td>\n",
       "    </tr>\n",
       "    <tr>\n",
       "      <th>3</th>\n",
       "      <td>2020-07-17</td>\n",
       "      <td>0.327736</td>\n",
       "    </tr>\n",
       "    <tr>\n",
       "      <th>4</th>\n",
       "      <td>2020-07-18</td>\n",
       "      <td>0.000000</td>\n",
       "    </tr>\n",
       "  </tbody>\n",
       "</table>\n",
       "</div>"
      ],
      "text/plain": [
       "  publishedAt     score\n",
       "0  2020-07-14  0.000000\n",
       "1  2020-07-15  0.234960\n",
       "2  2020-07-16  0.722932\n",
       "3  2020-07-17  0.327736\n",
       "4  2020-07-18  0.000000"
      ]
     },
     "execution_count": 5,
     "metadata": {},
     "output_type": "execute_result"
    }
   ],
   "source": [
    "# Load the sentiment score data\n",
    "df_senti_avg = pd.read_csv('Sentiment_score.csv')\n",
    "df_senti_avg.head()\n"
   ]
  },
  {
   "cell_type": "code",
   "execution_count": 6,
   "id": "47ee4f98",
   "metadata": {},
   "outputs": [
    {
     "data": {
      "text/html": [
       "<div>\n",
       "<style scoped>\n",
       "    .dataframe tbody tr th:only-of-type {\n",
       "        vertical-align: middle;\n",
       "    }\n",
       "\n",
       "    .dataframe tbody tr th {\n",
       "        vertical-align: top;\n",
       "    }\n",
       "\n",
       "    .dataframe thead th {\n",
       "        text-align: right;\n",
       "    }\n",
       "</style>\n",
       "<table border=\"1\" class=\"dataframe\">\n",
       "  <thead>\n",
       "    <tr style=\"text-align: right;\">\n",
       "      <th></th>\n",
       "      <th>Open</th>\n",
       "      <th>High</th>\n",
       "      <th>Low</th>\n",
       "      <th>Close</th>\n",
       "      <th>Adj Close</th>\n",
       "      <th>Volume</th>\n",
       "    </tr>\n",
       "    <tr>\n",
       "      <th>Date</th>\n",
       "      <th></th>\n",
       "      <th></th>\n",
       "      <th></th>\n",
       "      <th></th>\n",
       "      <th></th>\n",
       "      <th></th>\n",
       "    </tr>\n",
       "  </thead>\n",
       "  <tbody>\n",
       "    <tr>\n",
       "      <th>2020-07-14</th>\n",
       "      <td>94.839996</td>\n",
       "      <td>97.254997</td>\n",
       "      <td>93.877502</td>\n",
       "      <td>97.057503</td>\n",
       "      <td>95.291222</td>\n",
       "      <td>170989200</td>\n",
       "    </tr>\n",
       "    <tr>\n",
       "      <th>2020-07-15</th>\n",
       "      <td>98.989998</td>\n",
       "      <td>99.247498</td>\n",
       "      <td>96.489998</td>\n",
       "      <td>97.724998</td>\n",
       "      <td>95.946571</td>\n",
       "      <td>153198000</td>\n",
       "    </tr>\n",
       "    <tr>\n",
       "      <th>2020-07-16</th>\n",
       "      <td>96.562500</td>\n",
       "      <td>97.404999</td>\n",
       "      <td>95.904999</td>\n",
       "      <td>96.522499</td>\n",
       "      <td>94.765968</td>\n",
       "      <td>110577600</td>\n",
       "    </tr>\n",
       "    <tr>\n",
       "      <th>2020-07-17</th>\n",
       "      <td>96.987503</td>\n",
       "      <td>97.147499</td>\n",
       "      <td>95.839996</td>\n",
       "      <td>96.327499</td>\n",
       "      <td>94.574509</td>\n",
       "      <td>92186800</td>\n",
       "    </tr>\n",
       "    <tr>\n",
       "      <th>2020-07-20</th>\n",
       "      <td>96.417503</td>\n",
       "      <td>98.500000</td>\n",
       "      <td>96.062500</td>\n",
       "      <td>98.357498</td>\n",
       "      <td>96.567574</td>\n",
       "      <td>90318000</td>\n",
       "    </tr>\n",
       "  </tbody>\n",
       "</table>\n",
       "</div>"
      ],
      "text/plain": [
       "                 Open       High        Low      Close  Adj Close     Volume\n",
       "Date                                                                        \n",
       "2020-07-14  94.839996  97.254997  93.877502  97.057503  95.291222  170989200\n",
       "2020-07-15  98.989998  99.247498  96.489998  97.724998  95.946571  153198000\n",
       "2020-07-16  96.562500  97.404999  95.904999  96.522499  94.765968  110577600\n",
       "2020-07-17  96.987503  97.147499  95.839996  96.327499  94.574509   92186800\n",
       "2020-07-20  96.417503  98.500000  96.062500  98.357498  96.567574   90318000"
      ]
     },
     "execution_count": 6,
     "metadata": {},
     "output_type": "execute_result"
    }
   ],
   "source": [
    "data.head()"
   ]
  },
  {
   "cell_type": "code",
   "execution_count": 7,
   "id": "cf7384b9",
   "metadata": {},
   "outputs": [
    {
     "data": {
      "text/html": [
       "<div>\n",
       "<style scoped>\n",
       "    .dataframe tbody tr th:only-of-type {\n",
       "        vertical-align: middle;\n",
       "    }\n",
       "\n",
       "    .dataframe tbody tr th {\n",
       "        vertical-align: top;\n",
       "    }\n",
       "\n",
       "    .dataframe thead th {\n",
       "        text-align: right;\n",
       "    }\n",
       "</style>\n",
       "<table border=\"1\" class=\"dataframe\">\n",
       "  <thead>\n",
       "    <tr style=\"text-align: right;\">\n",
       "      <th></th>\n",
       "      <th>Open</th>\n",
       "      <th>High</th>\n",
       "      <th>Low</th>\n",
       "      <th>Close</th>\n",
       "      <th>Adj Close</th>\n",
       "      <th>Volume</th>\n",
       "    </tr>\n",
       "    <tr>\n",
       "      <th>Date</th>\n",
       "      <th></th>\n",
       "      <th></th>\n",
       "      <th></th>\n",
       "      <th></th>\n",
       "      <th></th>\n",
       "      <th></th>\n",
       "    </tr>\n",
       "  </thead>\n",
       "  <tbody>\n",
       "    <tr>\n",
       "      <th>2023-07-10</th>\n",
       "      <td>189.259995</td>\n",
       "      <td>189.990005</td>\n",
       "      <td>187.039993</td>\n",
       "      <td>188.610001</td>\n",
       "      <td>188.610001</td>\n",
       "      <td>59922200</td>\n",
       "    </tr>\n",
       "    <tr>\n",
       "      <th>2023-07-11</th>\n",
       "      <td>189.160004</td>\n",
       "      <td>189.300003</td>\n",
       "      <td>186.600006</td>\n",
       "      <td>188.080002</td>\n",
       "      <td>188.080002</td>\n",
       "      <td>46638100</td>\n",
       "    </tr>\n",
       "    <tr>\n",
       "      <th>2023-07-12</th>\n",
       "      <td>189.679993</td>\n",
       "      <td>191.699997</td>\n",
       "      <td>188.470001</td>\n",
       "      <td>189.770004</td>\n",
       "      <td>189.770004</td>\n",
       "      <td>60750200</td>\n",
       "    </tr>\n",
       "    <tr>\n",
       "      <th>2023-07-13</th>\n",
       "      <td>190.500000</td>\n",
       "      <td>191.190002</td>\n",
       "      <td>189.779999</td>\n",
       "      <td>190.539993</td>\n",
       "      <td>190.539993</td>\n",
       "      <td>41342300</td>\n",
       "    </tr>\n",
       "    <tr>\n",
       "      <th>2023-07-14</th>\n",
       "      <td>190.229996</td>\n",
       "      <td>191.179993</td>\n",
       "      <td>189.630005</td>\n",
       "      <td>190.690002</td>\n",
       "      <td>190.690002</td>\n",
       "      <td>41573900</td>\n",
       "    </tr>\n",
       "  </tbody>\n",
       "</table>\n",
       "</div>"
      ],
      "text/plain": [
       "                  Open        High         Low       Close   Adj Close  \\\n",
       "Date                                                                     \n",
       "2023-07-10  189.259995  189.990005  187.039993  188.610001  188.610001   \n",
       "2023-07-11  189.160004  189.300003  186.600006  188.080002  188.080002   \n",
       "2023-07-12  189.679993  191.699997  188.470001  189.770004  189.770004   \n",
       "2023-07-13  190.500000  191.190002  189.779999  190.539993  190.539993   \n",
       "2023-07-14  190.229996  191.179993  189.630005  190.690002  190.690002   \n",
       "\n",
       "              Volume  \n",
       "Date                  \n",
       "2023-07-10  59922200  \n",
       "2023-07-11  46638100  \n",
       "2023-07-12  60750200  \n",
       "2023-07-13  41342300  \n",
       "2023-07-14  41573900  "
      ]
     },
     "execution_count": 7,
     "metadata": {},
     "output_type": "execute_result"
    }
   ],
   "source": [
    "data.tail()"
   ]
  },
  {
   "cell_type": "code",
   "execution_count": 8,
   "id": "e30ee610",
   "metadata": {},
   "outputs": [
    {
     "data": {
      "text/plain": [
       "<AxesSubplot:xlabel='Date'>"
      ]
     },
     "execution_count": 8,
     "metadata": {},
     "output_type": "execute_result"
    },
    {
     "data": {
      "image/png": "[encoded data removed]",
      "text/plain": [
       "<Figure size 1200x400 with 1 Axes>"
      ]
     },
     "metadata": {},
     "output_type": "display_data"
    }
   ],
   "source": [
    "data['High'].plot(xlim=['2020-07-14','2023-07-17'],ylim=[120,200],figsize=(12,4),ls='--',c='green')"
   ]
  },
  {
   "cell_type": "code",
   "execution_count": 9,
   "id": "be63f2a1",
   "metadata": {},
   "outputs": [],
   "source": [
    "index = data.loc['2020-07-14':'2023-07-17'].index\n",
    "stock_open = data.loc['2020-07-14':'2023-07-17']['Open']\n",
    "stock_high = data.loc['2020-07-14':'2023-07-17']['High']\n",
    "stock_low = data.loc['2020-07-14':'2023-07-17']['Low']\n",
    "stock_close = data.loc['2020-07-14':'2023-07-17']['Close']"
   ]
  },
  {
   "cell_type": "code",
   "execution_count": 10,
   "id": "84153c48",
   "metadata": {},
   "outputs": [
    {
     "data": {
      "image/png": "[encoded data removed]",
      "text/plain": [
       "<Figure size 1200x400 with 1 Axes>"
      ]
     },
     "metadata": {},
     "output_type": "display_data"
    }
   ],
   "source": [
    "import matplotlib.pyplot as plt\n",
    "%matplotlib inline\n",
    "\n",
    "figure, axis = plt.subplots(figsize=(12,4))\n",
    "plt.tight_layout()\n",
    "# preventing overlapping\n",
    "figure.autofmt_xdate()\n",
    "\n",
    "# assuming 'index', 'stock_open', 'stock_high', 'stock_low', 'stock_close' are defined\n",
    "axis.plot(index, stock_open, label='Open')\n",
    "axis.plot(index, stock_high, label='High')\n",
    "axis.plot(index, stock_low, label='Low')\n",
    "axis.plot(index, stock_close, label='Close')\n",
    "\n",
    "# Add labels and title\n",
    "axis.set_xlabel('Date')\n",
    "axis.set_ylabel('Price')\n",
    "axis.set_title('Stock Prices Over Time')\n",
    "\n",
    "# Add a legend\n",
    "axis.legend()\n",
    "\n",
    "plt.show()\n"
   ]
  },
  {
   "cell_type": "code",
   "execution_count": 11,
   "id": "fd08999c",
   "metadata": {},
   "outputs": [
    {
     "data": {
      "text/html": [
       "<div>\n",
       "<style scoped>\n",
       "    .dataframe tbody tr th:only-of-type {\n",
       "        vertical-align: middle;\n",
       "    }\n",
       "\n",
       "    .dataframe tbody tr th {\n",
       "        vertical-align: top;\n",
       "    }\n",
       "\n",
       "    .dataframe thead th {\n",
       "        text-align: right;\n",
       "    }\n",
       "</style>\n",
       "<table border=\"1\" class=\"dataframe\">\n",
       "  <thead>\n",
       "    <tr style=\"text-align: right;\">\n",
       "      <th></th>\n",
       "      <th>Open</th>\n",
       "      <th>High</th>\n",
       "      <th>Low</th>\n",
       "      <th>Close</th>\n",
       "      <th>Adj Close</th>\n",
       "      <th>Volume</th>\n",
       "      <th>publishedAt</th>\n",
       "      <th>score</th>\n",
       "    </tr>\n",
       "    <tr>\n",
       "      <th>Date</th>\n",
       "      <th></th>\n",
       "      <th></th>\n",
       "      <th></th>\n",
       "      <th></th>\n",
       "      <th></th>\n",
       "      <th></th>\n",
       "      <th></th>\n",
       "      <th></th>\n",
       "    </tr>\n",
       "  </thead>\n",
       "  <tbody>\n",
       "    <tr>\n",
       "      <th>2020-07-14</th>\n",
       "      <td>94.839996</td>\n",
       "      <td>97.254997</td>\n",
       "      <td>93.877502</td>\n",
       "      <td>97.057503</td>\n",
       "      <td>95.291222</td>\n",
       "      <td>170989200</td>\n",
       "      <td>2020-07-14</td>\n",
       "      <td>0.000000</td>\n",
       "    </tr>\n",
       "    <tr>\n",
       "      <th>2020-07-15</th>\n",
       "      <td>98.989998</td>\n",
       "      <td>99.247498</td>\n",
       "      <td>96.489998</td>\n",
       "      <td>97.724998</td>\n",
       "      <td>95.946571</td>\n",
       "      <td>153198000</td>\n",
       "      <td>2020-07-15</td>\n",
       "      <td>0.234960</td>\n",
       "    </tr>\n",
       "    <tr>\n",
       "      <th>2020-07-16</th>\n",
       "      <td>96.562500</td>\n",
       "      <td>97.404999</td>\n",
       "      <td>95.904999</td>\n",
       "      <td>96.522499</td>\n",
       "      <td>94.765968</td>\n",
       "      <td>110577600</td>\n",
       "      <td>2020-07-16</td>\n",
       "      <td>0.722932</td>\n",
       "    </tr>\n",
       "    <tr>\n",
       "      <th>2020-07-17</th>\n",
       "      <td>96.987503</td>\n",
       "      <td>97.147499</td>\n",
       "      <td>95.839996</td>\n",
       "      <td>96.327499</td>\n",
       "      <td>94.574509</td>\n",
       "      <td>92186800</td>\n",
       "      <td>2020-07-17</td>\n",
       "      <td>0.327736</td>\n",
       "    </tr>\n",
       "    <tr>\n",
       "      <th>2020-07-20</th>\n",
       "      <td>96.417503</td>\n",
       "      <td>98.500000</td>\n",
       "      <td>96.062500</td>\n",
       "      <td>98.357498</td>\n",
       "      <td>96.567574</td>\n",
       "      <td>90318000</td>\n",
       "      <td>2020-07-20</td>\n",
       "      <td>-0.848637</td>\n",
       "    </tr>\n",
       "    <tr>\n",
       "      <th>...</th>\n",
       "      <td>...</td>\n",
       "      <td>...</td>\n",
       "      <td>...</td>\n",
       "      <td>...</td>\n",
       "      <td>...</td>\n",
       "      <td>...</td>\n",
       "      <td>...</td>\n",
       "      <td>...</td>\n",
       "    </tr>\n",
       "    <tr>\n",
       "      <th>2023-07-10</th>\n",
       "      <td>189.259995</td>\n",
       "      <td>189.990005</td>\n",
       "      <td>187.039993</td>\n",
       "      <td>188.610001</td>\n",
       "      <td>188.610001</td>\n",
       "      <td>59922200</td>\n",
       "      <td>2023-07-10</td>\n",
       "      <td>0.293409</td>\n",
       "    </tr>\n",
       "    <tr>\n",
       "      <th>2023-07-11</th>\n",
       "      <td>189.160004</td>\n",
       "      <td>189.300003</td>\n",
       "      <td>186.600006</td>\n",
       "      <td>188.080002</td>\n",
       "      <td>188.080002</td>\n",
       "      <td>46638100</td>\n",
       "      <td>2023-07-11</td>\n",
       "      <td>0.475714</td>\n",
       "    </tr>\n",
       "    <tr>\n",
       "      <th>2023-07-12</th>\n",
       "      <td>189.679993</td>\n",
       "      <td>191.699997</td>\n",
       "      <td>188.470001</td>\n",
       "      <td>189.770004</td>\n",
       "      <td>189.770004</td>\n",
       "      <td>60750200</td>\n",
       "      <td>2023-07-12</td>\n",
       "      <td>0.000000</td>\n",
       "    </tr>\n",
       "    <tr>\n",
       "      <th>2023-07-13</th>\n",
       "      <td>190.500000</td>\n",
       "      <td>191.190002</td>\n",
       "      <td>189.779999</td>\n",
       "      <td>190.539993</td>\n",
       "      <td>190.539993</td>\n",
       "      <td>41342300</td>\n",
       "      <td>2023-07-13</td>\n",
       "      <td>0.080541</td>\n",
       "    </tr>\n",
       "    <tr>\n",
       "      <th>2023-07-14</th>\n",
       "      <td>190.229996</td>\n",
       "      <td>191.179993</td>\n",
       "      <td>189.630005</td>\n",
       "      <td>190.690002</td>\n",
       "      <td>190.690002</td>\n",
       "      <td>41573900</td>\n",
       "      <td>2023-07-14</td>\n",
       "      <td>0.185541</td>\n",
       "    </tr>\n",
       "  </tbody>\n",
       "</table>\n",
       "<p>756 rows × 8 columns</p>\n",
       "</div>"
      ],
      "text/plain": [
       "                  Open        High         Low       Close   Adj Close  \\\n",
       "Date                                                                     \n",
       "2020-07-14   94.839996   97.254997   93.877502   97.057503   95.291222   \n",
       "2020-07-15   98.989998   99.247498   96.489998   97.724998   95.946571   \n",
       "2020-07-16   96.562500   97.404999   95.904999   96.522499   94.765968   \n",
       "2020-07-17   96.987503   97.147499   95.839996   96.327499   94.574509   \n",
       "2020-07-20   96.417503   98.500000   96.062500   98.357498   96.567574   \n",
       "...                ...         ...         ...         ...         ...   \n",
       "2023-07-10  189.259995  189.990005  187.039993  188.610001  188.610001   \n",
       "2023-07-11  189.160004  189.300003  186.600006  188.080002  188.080002   \n",
       "2023-07-12  189.679993  191.699997  188.470001  189.770004  189.770004   \n",
       "2023-07-13  190.500000  191.190002  189.779999  190.539993  190.539993   \n",
       "2023-07-14  190.229996  191.179993  189.630005  190.690002  190.690002   \n",
       "\n",
       "               Volume publishedAt     score  \n",
       "Date                                         \n",
       "2020-07-14  170989200  2020-07-14  0.000000  \n",
       "2020-07-15  153198000  2020-07-15  0.234960  \n",
       "2020-07-16  110577600  2020-07-16  0.722932  \n",
       "2020-07-17   92186800  2020-07-17  0.327736  \n",
       "2020-07-20   90318000  2020-07-20 -0.848637  \n",
       "...               ...         ...       ...  \n",
       "2023-07-10   59922200  2023-07-10  0.293409  \n",
       "2023-07-11   46638100  2023-07-11  0.475714  \n",
       "2023-07-12   60750200  2023-07-12  0.000000  \n",
       "2023-07-13   41342300  2023-07-13  0.080541  \n",
       "2023-07-14   41573900  2023-07-14  0.185541  \n",
       "\n",
       "[756 rows x 8 columns]"
      ]
     },
     "execution_count": 11,
     "metadata": {},
     "output_type": "execute_result"
    }
   ],
   "source": [
    "import pandas as pd\n",
    "\n",
    "# Assuming you have already performed the necessary data_reset and df_senti_avg operations\n",
    "# Reset the index and make it a column\n",
    "data.reset_index(level=0, inplace=True)\n",
    "df_senti_avg['publishedAt'] = pd.to_datetime(df_senti_avg['publishedAt'])\n",
    "\n",
    "# Perform the left join operation\n",
    "merged_df = pd.merge(data, df_senti_avg, how='left', left_on='Date', right_on='publishedAt')\n",
    "merged_df.set_index('Date', inplace=True)\n",
    "#merged_df.drop( 'index', axis=1, inplace=True)\n",
    "merged_df"
   ]
  },
  {
   "cell_type": "code",
   "execution_count": 12,
   "id": "0d632606",
   "metadata": {},
   "outputs": [
    {
     "name": "stdout",
     "output_type": "stream",
     "text": [
      "               Open      High       Low     Close  Adj Close    Volume  \\\n",
      "Open       1.000000  0.997601  0.997146  0.993683   0.993434 -0.447318   \n",
      "High       0.997601  1.000000  0.996824  0.997127   0.996864 -0.430345   \n",
      "Low        0.997146  0.996824  1.000000  0.997233   0.997005 -0.472828   \n",
      "Close      0.993683  0.997127  0.997233  1.000000   0.999703 -0.451194   \n",
      "Adj Close  0.993434  0.996864  0.997005  0.999703   1.000000 -0.457942   \n",
      "Volume    -0.447318 -0.430345 -0.472828 -0.451194  -0.457942  1.000000   \n",
      "score     -0.028772 -0.028886 -0.025996 -0.025480  -0.027057  0.027014   \n",
      "\n",
      "              score  \n",
      "Open      -0.028772  \n",
      "High      -0.028886  \n",
      "Low       -0.025996  \n",
      "Close     -0.025480  \n",
      "Adj Close -0.027057  \n",
      "Volume     0.027014  \n",
      "score      1.000000  \n"
     ]
    }
   ],
   "source": [
    "import seaborn as sns\n",
    "import matplotlib.pyplot as plt\n",
    "\n",
    "# Compute the correlation matrix\n",
    "corr = merged_df.corr()\n",
    "print(corr)"
   ]
  },
  {
   "cell_type": "code",
   "execution_count": 13,
   "id": "7c6dcbf3",
   "metadata": {},
   "outputs": [
    {
     "data": {
      "text/html": [
       "<div>\n",
       "<style scoped>\n",
       "    .dataframe tbody tr th:only-of-type {\n",
       "        vertical-align: middle;\n",
       "    }\n",
       "\n",
       "    .dataframe tbody tr th {\n",
       "        vertical-align: top;\n",
       "    }\n",
       "\n",
       "    .dataframe thead th {\n",
       "        text-align: right;\n",
       "    }\n",
       "</style>\n",
       "<table border=\"1\" class=\"dataframe\">\n",
       "  <thead>\n",
       "    <tr style=\"text-align: right;\">\n",
       "      <th></th>\n",
       "      <th>Open</th>\n",
       "      <th>score</th>\n",
       "    </tr>\n",
       "    <tr>\n",
       "      <th>Date</th>\n",
       "      <th></th>\n",
       "      <th></th>\n",
       "    </tr>\n",
       "  </thead>\n",
       "  <tbody>\n",
       "    <tr>\n",
       "      <th>2020-07-14</th>\n",
       "      <td>94.839996</td>\n",
       "      <td>0.000000</td>\n",
       "    </tr>\n",
       "    <tr>\n",
       "      <th>2020-07-15</th>\n",
       "      <td>98.989998</td>\n",
       "      <td>0.234960</td>\n",
       "    </tr>\n",
       "    <tr>\n",
       "      <th>2020-07-16</th>\n",
       "      <td>96.562500</td>\n",
       "      <td>0.722932</td>\n",
       "    </tr>\n",
       "    <tr>\n",
       "      <th>2020-07-17</th>\n",
       "      <td>96.987503</td>\n",
       "      <td>0.327736</td>\n",
       "    </tr>\n",
       "    <tr>\n",
       "      <th>2020-07-20</th>\n",
       "      <td>96.417503</td>\n",
       "      <td>-0.848637</td>\n",
       "    </tr>\n",
       "    <tr>\n",
       "      <th>...</th>\n",
       "      <td>...</td>\n",
       "      <td>...</td>\n",
       "    </tr>\n",
       "    <tr>\n",
       "      <th>2023-07-10</th>\n",
       "      <td>189.259995</td>\n",
       "      <td>0.293409</td>\n",
       "    </tr>\n",
       "    <tr>\n",
       "      <th>2023-07-11</th>\n",
       "      <td>189.160004</td>\n",
       "      <td>0.475714</td>\n",
       "    </tr>\n",
       "    <tr>\n",
       "      <th>2023-07-12</th>\n",
       "      <td>189.679993</td>\n",
       "      <td>0.000000</td>\n",
       "    </tr>\n",
       "    <tr>\n",
       "      <th>2023-07-13</th>\n",
       "      <td>190.500000</td>\n",
       "      <td>0.080541</td>\n",
       "    </tr>\n",
       "    <tr>\n",
       "      <th>2023-07-14</th>\n",
       "      <td>190.229996</td>\n",
       "      <td>0.185541</td>\n",
       "    </tr>\n",
       "  </tbody>\n",
       "</table>\n",
       "<p>756 rows × 2 columns</p>\n",
       "</div>"
      ],
      "text/plain": [
       "                  Open     score\n",
       "Date                            \n",
       "2020-07-14   94.839996  0.000000\n",
       "2020-07-15   98.989998  0.234960\n",
       "2020-07-16   96.562500  0.722932\n",
       "2020-07-17   96.987503  0.327736\n",
       "2020-07-20   96.417503 -0.848637\n",
       "...                ...       ...\n",
       "2023-07-10  189.259995  0.293409\n",
       "2023-07-11  189.160004  0.475714\n",
       "2023-07-12  189.679993  0.000000\n",
       "2023-07-13  190.500000  0.080541\n",
       "2023-07-14  190.229996  0.185541\n",
       "\n",
       "[756 rows x 2 columns]"
      ]
     },
     "execution_count": 13,
     "metadata": {},
     "output_type": "execute_result"
    }
   ],
   "source": [
    "senti_open = merged_df[[\"Open\",\"score\"]]\n",
    "senti_open"
   ]
  },
  {
   "cell_type": "code",
   "execution_count": 14,
   "id": "70e09764",
   "metadata": {},
   "outputs": [
    {
     "name": "stdout",
     "output_type": "stream",
     "text": [
      "Training set shape: (604, 2)\n",
      "Testing set shape: (152, 2)\n"
     ]
    }
   ],
   "source": [
    "# Calculate the split point\n",
    "split_point = int(len(senti_open) * 0.8)\n",
    "\n",
    "# Split the data\n",
    "train_data = senti_open.iloc[:split_point]\n",
    "test_data = senti_open.iloc[split_point:]\n",
    "\n",
    "# Print the shapes of the training and testing sets\n",
    "print(\"Training set shape:\", train_data.shape)\n",
    "print(\"Testing set shape:\", test_data.shape)\n"
   ]
  },
  {
   "cell_type": "code",
   "execution_count": 15,
   "id": "40994128",
   "metadata": {},
   "outputs": [],
   "source": [
    "import numpy as np\n",
    "from sklearn.preprocessing import MinMaxScaler\n",
    "scaler=MinMaxScaler(feature_range=(0,1))\n",
    "train_data_scaled=scaler.fit_transform(train_data)\n",
    "test_data_scaled=scaler.transform(test_data)"
   ]
  },
  {
   "cell_type": "code",
   "execution_count": 16,
   "id": "e7d3b129",
   "metadata": {},
   "outputs": [
    {
     "data": {
      "text/plain": [
       "array([[0.04203828, 0.5198606 ],\n",
       "       [0.08732296, 0.66379296],\n",
       "       [0.06083419, 0.96271596],\n",
       "       ...,\n",
       "       [0.55009946, 0.55625691],\n",
       "       [0.6244101 , 0.4711524 ],\n",
       "       [0.59985817, 0.63661131]])"
      ]
     },
     "execution_count": 16,
     "metadata": {},
     "output_type": "execute_result"
    }
   ],
   "source": [
    "train_data_scaled"
   ]
  },
  {
   "cell_type": "code",
   "execution_count": 17,
   "id": "d004b897",
   "metadata": {},
   "outputs": [
    {
     "data": {
      "text/plain": [
       "((604, 2), (152, 2))"
      ]
     },
     "execution_count": 17,
     "metadata": {},
     "output_type": "execute_result"
    }
   ],
   "source": [
    "train_data_scaled.shape,test_data_scaled.shape"
   ]
  },
  {
   "cell_type": "code",
   "execution_count": 18,
   "id": "06a45caa",
   "metadata": {},
   "outputs": [],
   "source": [
    "def create_sequences(data, window_size):\n",
    "    X, y = [], []\n",
    "    for i in range(len(data) - window_size ): \n",
    "        X.append(data[i:(i + window_size)])\n",
    "        y.append(data[i + window_size ]) \n",
    "    return np.array(X), np.array(y)\n"
   ]
  },
  {
   "cell_type": "code",
   "execution_count": 19,
   "id": "c730633a",
   "metadata": {},
   "outputs": [],
   "source": [
    "X_train, y_train = create_sequences(train_data_scaled, window_size=4)\n",
    "X_test, y_test = create_sequences(test_data_scaled, window_size=4)"
   ]
  },
  {
   "cell_type": "code",
   "execution_count": 20,
   "id": "2ddc6915",
   "metadata": {},
   "outputs": [
    {
     "data": {
      "text/plain": [
       "((600, 4, 2), (600, 2))"
      ]
     },
     "execution_count": 20,
     "metadata": {},
     "output_type": "execute_result"
    }
   ],
   "source": [
    "X_train.shape,y_train.shape"
   ]
  },
  {
   "cell_type": "code",
   "execution_count": 21,
   "id": "2e9c3f02",
   "metadata": {},
   "outputs": [],
   "source": [
    "from keras.models import Sequential\n",
    "from keras.layers import Dense, LSTM, Dropout, BatchNormalization, Conv1D\n",
    "\n",
    "# Assuming each data point has 5 time steps and 2 features (open and score)\n",
    "n_steps = 4\n",
    "n_features = 2\n",
    "input_shape=(n_steps, n_features)\n",
    "\n",
    "# Define the model\n",
    "model = Sequential()\n",
    "\n",
    "# One-dimensional convolutional layer with 64 filters of size 1 with a stride of 1\n",
    "model.add(Conv1D(filters=64, kernel_size=1, activation='relu', input_shape=input_shape))\n",
    "\n",
    "# LSTM layer with 128 units\n",
    "model.add(LSTM(256, activation='relu', return_sequences=True))\n",
    "\n",
    "# LSTM layer with 64 units\n",
    "model.add(LSTM(256, activation='relu', return_sequences=True))\n",
    "\n",
    "# Another LSTM layer with 64 units\n",
    "model.add(LSTM(128, activation='tanh'))\n",
    "\n",
    "# Dense layer with 64 units and the ReLU activation\n",
    "model.add(Dense(256, activation='relu'))\n",
    "\n",
    "\n",
    "\n",
    "# Dense layer with 2 units (for 'Open' and 'Score')\n",
    "model.add(Dense(2))\n",
    "\n",
    "# Compile the model\n",
    "model.compile(optimizer='adam', loss='mse')\n"
   ]
  },
  {
   "cell_type": "code",
   "execution_count": 22,
   "id": "667166e8",
   "metadata": {},
   "outputs": [
    {
     "name": "stdout",
     "output_type": "stream",
     "text": [
      "Model: \"sequential\"\n",
      "_________________________________________________________________\n",
      " Layer (type)                Output Shape              Param #   \n",
      "=================================================================\n",
      " conv1d (Conv1D)             (None, 4, 64)             192       \n",
      "                                                                 \n",
      " lstm (LSTM)                 (None, 4, 256)            328704    \n",
      "                                                                 \n",
      " lstm_1 (LSTM)               (None, 4, 256)            525312    \n",
      "                                                                 \n",
      " lstm_2 (LSTM)               (None, 128)               197120    \n",
      "                                                                 \n",
      " dense (Dense)               (None, 256)               33024     \n",
      "                                                                 \n",
      " dense_1 (Dense)             (None, 2)                 514       \n",
      "                                                                 \n",
      "=================================================================\n",
      "Total params: 1,084,866\n",
      "Trainable params: 1,084,866\n",
      "Non-trainable params: 0\n",
      "_________________________________________________________________\n"
     ]
    }
   ],
   "source": [
    "model.summary()"
   ]
  },
  {
   "cell_type": "code",
   "execution_count": 23,
   "id": "27dd7ab7",
   "metadata": {},
   "outputs": [
    {
     "name": "stdout",
     "output_type": "stream",
     "text": [
      "Epoch 1/100\n",
      "19/19 [==============================] - 2s 24ms/step - loss: 0.1591\n",
      "Epoch 2/100\n",
      "19/19 [==============================] - 0s 22ms/step - loss: 0.0299\n",
      "Epoch 3/100\n",
      "19/19 [==============================] - 0s 22ms/step - loss: 0.0198\n",
      "Epoch 4/100\n",
      "19/19 [==============================] - 1s 28ms/step - loss: 0.0160\n",
      "Epoch 5/100\n",
      "19/19 [==============================] - 0s 24ms/step - loss: 0.0121\n",
      "Epoch 6/100\n",
      "19/19 [==============================] - 0s 25ms/step - loss: 0.0082\n",
      "Epoch 7/100\n",
      "19/19 [==============================] - 0s 25ms/step - loss: 0.0084\n",
      "Epoch 8/100\n",
      "19/19 [==============================] - 0s 25ms/step - loss: 0.0075\n",
      "Epoch 9/100\n",
      "19/19 [==============================] - 0s 26ms/step - loss: 0.0079\n",
      "Epoch 10/100\n",
      "19/19 [==============================] - 0s 25ms/step - loss: 0.0073\n",
      "Epoch 11/100\n",
      "19/19 [==============================] - 0s 25ms/step - loss: 0.0074\n",
      "Epoch 12/100\n",
      "19/19 [==============================] - 0s 26ms/step - loss: 0.0073\n",
      "Epoch 13/100\n",
      "19/19 [==============================] - 0s 26ms/step - loss: 0.0073\n",
      "Epoch 14/100\n",
      "19/19 [==============================] - 1s 39ms/step - loss: 0.0072\n",
      "Epoch 15/100\n",
      "19/19 [==============================] - 1s 28ms/step - loss: 0.0073\n",
      "Epoch 16/100\n",
      "19/19 [==============================] - 1s 29ms/step - loss: 0.0074\n",
      "Epoch 17/100\n",
      "19/19 [==============================] - 0s 25ms/step - loss: 0.0075\n",
      "Epoch 18/100\n",
      "19/19 [==============================] - 0s 25ms/step - loss: 0.0074\n",
      "Epoch 19/100\n",
      "19/19 [==============================] - 0s 25ms/step - loss: 0.0072\n",
      "Epoch 20/100\n",
      "19/19 [==============================] - 0s 24ms/step - loss: 0.0071\n",
      "Epoch 21/100\n",
      "19/19 [==============================] - 0s 25ms/step - loss: 0.0071\n",
      "Epoch 22/100\n",
      "19/19 [==============================] - 0s 25ms/step - loss: 0.0072\n",
      "Epoch 23/100\n",
      "19/19 [==============================] - 0s 25ms/step - loss: 0.0074\n",
      "Epoch 24/100\n",
      "19/19 [==============================] - 0s 25ms/step - loss: 0.0069\n",
      "Epoch 25/100\n",
      "19/19 [==============================] - 0s 25ms/step - loss: 0.0069\n",
      "Epoch 26/100\n",
      "19/19 [==============================] - 0s 25ms/step - loss: 0.0071\n",
      "Epoch 27/100\n",
      "19/19 [==============================] - 0s 25ms/step - loss: 0.0071\n",
      "Epoch 28/100\n",
      "19/19 [==============================] - 0s 25ms/step - loss: 0.0070\n",
      "Epoch 29/100\n",
      "19/19 [==============================] - 0s 26ms/step - loss: 0.0071\n",
      "Epoch 30/100\n",
      "19/19 [==============================] - 0s 26ms/step - loss: 0.0073\n",
      "Epoch 31/100\n",
      "19/19 [==============================] - 0s 25ms/step - loss: 0.0071\n",
      "Epoch 32/100\n",
      "19/19 [==============================] - 1s 36ms/step - loss: 0.0072\n",
      "Epoch 33/100\n",
      "19/19 [==============================] - 1s 37ms/step - loss: 0.0071\n",
      "Epoch 34/100\n",
      "19/19 [==============================] - 1s 37ms/step - loss: 0.0075\n",
      "Epoch 35/100\n",
      "19/19 [==============================] - 1s 37ms/step - loss: 0.0068\n",
      "Epoch 36/100\n",
      "19/19 [==============================] - 1s 37ms/step - loss: 0.0068\n",
      "Epoch 37/100\n",
      "19/19 [==============================] - 1s 38ms/step - loss: 0.0070\n",
      "Epoch 38/100\n",
      "19/19 [==============================] - 1s 37ms/step - loss: 0.0070\n",
      "Epoch 39/100\n",
      "19/19 [==============================] - 1s 38ms/step - loss: 0.0068\n",
      "Epoch 40/100\n",
      "19/19 [==============================] - 1s 36ms/step - loss: 0.0070\n",
      "Epoch 41/100\n",
      "19/19 [==============================] - 1s 35ms/step - loss: 0.0068\n",
      "Epoch 42/100\n",
      "19/19 [==============================] - 1s 39ms/step - loss: 0.0068\n",
      "Epoch 43/100\n",
      "19/19 [==============================] - 1s 40ms/step - loss: 0.0067\n",
      "Epoch 44/100\n",
      "19/19 [==============================] - 1s 40ms/step - loss: 0.0066\n",
      "Epoch 45/100\n",
      "19/19 [==============================] - 1s 39ms/step - loss: 0.0066\n",
      "Epoch 46/100\n",
      "19/19 [==============================] - 1s 37ms/step - loss: 0.0068\n",
      "Epoch 47/100\n",
      "19/19 [==============================] - 1s 37ms/step - loss: 0.0069\n",
      "Epoch 48/100\n",
      "19/19 [==============================] - 1s 38ms/step - loss: 0.0069\n",
      "Epoch 49/100\n",
      "19/19 [==============================] - 1s 40ms/step - loss: 0.0069\n",
      "Epoch 50/100\n",
      "19/19 [==============================] - 1s 40ms/step - loss: 0.0067\n",
      "Epoch 51/100\n",
      "19/19 [==============================] - 1s 42ms/step - loss: 0.0067\n",
      "Epoch 52/100\n",
      "19/19 [==============================] - 1s 40ms/step - loss: 0.0067\n",
      "Epoch 53/100\n",
      "19/19 [==============================] - 1s 35ms/step - loss: 0.0066\n",
      "Epoch 54/100\n",
      "19/19 [==============================] - 1s 36ms/step - loss: 0.0069\n",
      "Epoch 55/100\n",
      "19/19 [==============================] - 1s 34ms/step - loss: 0.0068\n",
      "Epoch 56/100\n",
      "19/19 [==============================] - 1s 37ms/step - loss: 0.0068\n",
      "Epoch 57/100\n",
      "19/19 [==============================] - 1s 37ms/step - loss: 0.0066\n",
      "Epoch 58/100\n",
      "19/19 [==============================] - 1s 38ms/step - loss: 0.0071\n",
      "Epoch 59/100\n",
      "19/19 [==============================] - 1s 38ms/step - loss: 0.0067\n",
      "Epoch 60/100\n",
      "19/19 [==============================] - 1s 36ms/step - loss: 0.0065\n",
      "Epoch 61/100\n",
      "19/19 [==============================] - 1s 34ms/step - loss: 0.0065\n",
      "Epoch 62/100\n",
      "19/19 [==============================] - 1s 38ms/step - loss: 0.0065\n",
      "Epoch 63/100\n",
      "19/19 [==============================] - 1s 35ms/step - loss: 0.0066\n",
      "Epoch 64/100\n",
      "19/19 [==============================] - 1s 35ms/step - loss: 0.0065\n",
      "Epoch 65/100\n",
      "19/19 [==============================] - 1s 36ms/step - loss: 0.0065\n",
      "Epoch 66/100\n",
      "19/19 [==============================] - 1s 35ms/step - loss: 0.0068\n",
      "Epoch 67/100\n",
      "19/19 [==============================] - 1s 36ms/step - loss: 0.0067\n",
      "Epoch 68/100\n",
      "19/19 [==============================] - 1s 37ms/step - loss: 0.0066\n",
      "Epoch 69/100\n",
      "19/19 [==============================] - 1s 36ms/step - loss: 0.0067\n",
      "Epoch 70/100\n",
      "19/19 [==============================] - 1s 37ms/step - loss: 0.0067\n",
      "Epoch 71/100\n",
      "19/19 [==============================] - 1s 35ms/step - loss: 0.0068\n",
      "Epoch 72/100\n",
      "19/19 [==============================] - 1s 37ms/step - loss: 0.0065\n",
      "Epoch 73/100\n",
      "19/19 [==============================] - 1s 33ms/step - loss: 0.0066\n",
      "Epoch 74/100\n",
      "19/19 [==============================] - 1s 37ms/step - loss: 0.0066\n",
      "Epoch 75/100\n",
      "19/19 [==============================] - 1s 35ms/step - loss: 0.0067\n",
      "Epoch 76/100\n",
      "19/19 [==============================] - 1s 36ms/step - loss: 0.0066\n",
      "Epoch 77/100\n",
      "19/19 [==============================] - 1s 35ms/step - loss: 0.0070\n",
      "Epoch 78/100\n",
      "19/19 [==============================] - 1s 36ms/step - loss: 0.0066\n",
      "Epoch 79/100\n",
      "19/19 [==============================] - 1s 39ms/step - loss: 0.0068\n",
      "Epoch 80/100\n",
      "19/19 [==============================] - 1s 38ms/step - loss: 0.0068\n",
      "Epoch 81/100\n",
      "19/19 [==============================] - 1s 39ms/step - loss: 0.0065\n",
      "Epoch 82/100\n",
      "19/19 [==============================] - 1s 39ms/step - loss: 0.0067\n",
      "Epoch 83/100\n",
      "19/19 [==============================] - 1s 39ms/step - loss: 0.0067\n",
      "Epoch 84/100\n",
      "19/19 [==============================] - 1s 39ms/step - loss: 0.0069\n",
      "Epoch 85/100\n",
      "19/19 [==============================] - 1s 44ms/step - loss: 0.0067\n",
      "Epoch 86/100\n",
      "19/19 [==============================] - 1s 38ms/step - loss: 0.0065\n",
      "Epoch 87/100\n",
      "19/19 [==============================] - 1s 39ms/step - loss: 0.0067\n",
      "Epoch 88/100\n",
      "19/19 [==============================] - 1s 39ms/step - loss: 0.0065\n",
      "Epoch 89/100\n",
      "19/19 [==============================] - 1s 40ms/step - loss: 0.0064\n",
      "Epoch 90/100\n",
      "19/19 [==============================] - 1s 39ms/step - loss: 0.0067\n",
      "Epoch 91/100\n",
      "19/19 [==============================] - 1s 39ms/step - loss: 0.0065\n",
      "Epoch 92/100\n",
      "19/19 [==============================] - 1s 43ms/step - loss: 0.0065\n",
      "Epoch 93/100\n",
      "19/19 [==============================] - 1s 37ms/step - loss: 0.0065\n",
      "Epoch 94/100\n",
      "19/19 [==============================] - 1s 44ms/step - loss: 0.0064\n",
      "Epoch 95/100\n",
      "19/19 [==============================] - 1s 34ms/step - loss: 0.0064\n",
      "Epoch 96/100\n",
      "19/19 [==============================] - 1s 40ms/step - loss: 0.0064\n",
      "Epoch 97/100\n",
      "19/19 [==============================] - 1s 38ms/step - loss: 0.0067\n",
      "Epoch 98/100\n",
      "19/19 [==============================] - 1s 40ms/step - loss: 0.0068\n",
      "Epoch 99/100\n",
      "19/19 [==============================] - 1s 37ms/step - loss: 0.0065\n",
      "Epoch 100/100\n",
      "19/19 [==============================] - 1s 39ms/step - loss: 0.0063\n"
     ]
    },
    {
     "data": {
      "text/plain": [
       "<keras.callbacks.History at 0x24c605d58b0>"
      ]
     },
     "execution_count": 23,
     "metadata": {},
     "output_type": "execute_result"
    }
   ],
   "source": [
    "# Train the model\n",
    "model.fit(X_train, y_train, epochs=100, verbose=1)"
   ]
  },
  {
   "cell_type": "code",
   "execution_count": 24,
   "id": "dbd8d828",
   "metadata": {},
   "outputs": [
    {
     "name": "stdout",
     "output_type": "stream",
     "text": [
      "19/19 [==============================] - 1s 23ms/step\n",
      "5/5 [==============================] - 0s 15ms/step\n"
     ]
    }
   ],
   "source": [
    "### Lets Do the prediction and check performance metrics\n",
    "train_predict=model.predict(X_train)\n",
    "test_predict=model.predict(X_test)"
   ]
  },
  {
   "cell_type": "code",
   "execution_count": 25,
   "id": "47f6eba7",
   "metadata": {},
   "outputs": [],
   "source": [
    "##Transformback to original form\n",
    "train_predict=scaler.inverse_transform(train_predict)\n",
    "test_predict=scaler.inverse_transform(test_predict)"
   ]
  },
  {
   "cell_type": "code",
   "execution_count": 26,
   "id": "fdb96d4d",
   "metadata": {},
   "outputs": [
    {
     "data": {
      "text/plain": [
       "array([[1.01662865e+02, 1.09152704e-01],\n",
       "       [9.81473999e+01, 1.52108386e-01],\n",
       "       [9.62105484e+01, 1.76685527e-01],\n",
       "       ...,\n",
       "       [1.43601868e+02, 1.51814625e-01],\n",
       "       [1.40944427e+02, 1.59937873e-01],\n",
       "       [1.46533875e+02, 1.47249684e-01]], dtype=float32)"
      ]
     },
     "execution_count": 26,
     "metadata": {},
     "output_type": "execute_result"
    }
   ],
   "source": [
    "train_predict"
   ]
  },
  {
   "cell_type": "code",
   "execution_count": 27,
   "id": "a58ac24d",
   "metadata": {},
   "outputs": [
    {
     "data": {
      "text/plain": [
       "((600, 2), (148, 2))"
      ]
     },
     "execution_count": 27,
     "metadata": {},
     "output_type": "execute_result"
    }
   ],
   "source": [
    "train_predict.shape,test_predict.shape"
   ]
  },
  {
   "cell_type": "code",
   "execution_count": 28,
   "id": "eda0c68b",
   "metadata": {},
   "outputs": [
    {
     "data": {
      "text/plain": [
       "((600, 2), (148, 2))"
      ]
     },
     "execution_count": 28,
     "metadata": {},
     "output_type": "execute_result"
    }
   ],
   "source": [
    "train_data_campare =train_data[n_steps:]\n",
    "test_data_campare = test_data[n_steps:]\n",
    "train_data_campare.shape,test_data_campare.shape"
   ]
  },
  {
   "cell_type": "code",
   "execution_count": 29,
   "id": "67801085",
   "metadata": {},
   "outputs": [
    {
     "name": "stdout",
     "output_type": "stream",
     "text": [
      "The RMSE for train is 2.205050833158825\n",
      "The RMSE for test is 1.7434390304173955\n"
     ]
    }
   ],
   "source": [
    "### Calculate RMSE performance metrics\n",
    "import math\n",
    "from sklearn.metrics import mean_squared_error\n",
    "\n",
    "print(f\"The RMSE for train is {math.sqrt(mean_squared_error(train_data_campare, train_predict))}\")\n",
    "print(f\"The RMSE for test is {math.sqrt(mean_squared_error(test_data_campare, test_predict))}\")"
   ]
  },
  {
   "cell_type": "code",
   "execution_count": 30,
   "id": "cfdcd3ed",
   "metadata": {},
   "outputs": [
    {
     "name": "stdout",
     "output_type": "stream",
     "text": [
      "1/1 [==============================] - 0s 34ms/step\n",
      "1/1 [==============================] - 0s 30ms/step\n",
      "1/1 [==============================] - 0s 27ms/step\n",
      "1/1 [==============================] - 0s 23ms/step\n"
     ]
    }
   ],
   "source": [
    "# Assuming `test_data_scaled` is your time series data and `model` is your trained model\n",
    "window_size=n_steps\n",
    "input_seq = test_data_scaled[-n_steps:]\n",
    "\n",
    "for _ in range(window_size):\n",
    "    # Reshape the input sequence\n",
    "    input_seq = input_seq.reshape((1, n_steps, n_features))\n",
    "\n",
    "    # Make a prediction\n",
    "    prediction = model.predict(input_seq)\n",
    "\n",
    "    # Update the input sequence\n",
    "    input_seq = np.concatenate((input_seq[:, 1:, :], prediction.reshape(1, 1, n_features)), axis=1)\n",
    "\n",
    "# `input_seq` now contains the original data for the last `n_steps` time steps followed by `window_size` forecasted time steps\n"
   ]
  },
  {
   "cell_type": "code",
   "execution_count": 31,
   "id": "7cc68db6",
   "metadata": {},
   "outputs": [
    {
     "data": {
      "text/plain": [
       "array([[[1.06971872, 0.59960639],\n",
       "        [1.06169128, 0.59827089],\n",
       "        [1.05074394, 0.59824371],\n",
       "        [1.03931105, 0.5981614 ]]])"
      ]
     },
     "execution_count": 31,
     "metadata": {},
     "output_type": "execute_result"
    }
   ],
   "source": [
    "input_seq"
   ]
  },
  {
   "cell_type": "code",
   "execution_count": 32,
   "id": "2bba3339",
   "metadata": {},
   "outputs": [
    {
     "data": {
      "text/plain": [
       "array([[1.89019203e+02, 1.30179649e-01],\n",
       "       [1.88283549e+02, 1.27999532e-01],\n",
       "       [1.87280306e+02, 1.27955163e-01],\n",
       "       [1.86232568e+02, 1.27820791e-01]])"
      ]
     },
     "execution_count": 32,
     "metadata": {},
     "output_type": "execute_result"
    }
   ],
   "source": [
    "# Reshape the input sequence to 2D\n",
    "input_seq_2d = input_seq.reshape(-1, n_features)\n",
    "\n",
    "# Apply inverse transformation\n",
    "future_predict = scaler.inverse_transform(input_seq_2d)\n",
    "\n",
    "future_predict"
   ]
  },
  {
   "cell_type": "code",
   "execution_count": 33,
   "id": "b523a9c8",
   "metadata": {},
   "outputs": [
    {
     "data": {
      "text/plain": [
       "((600, 2), (4, 2), (148, 2))"
      ]
     },
     "execution_count": 33,
     "metadata": {},
     "output_type": "execute_result"
    }
   ],
   "source": [
    "train_predict.shape,future_predict.shape,test_predict.shape"
   ]
  },
  {
   "cell_type": "code",
   "execution_count": 34,
   "id": "6c4b80b3",
   "metadata": {},
   "outputs": [],
   "source": [
    "def extract_first_column(data):\n",
    "    return data[:, 0].tolist()\n",
    "train_predict_senti = extract_first_column(train_predict)\n",
    "test_predict_senti = extract_first_column(test_predict)\n",
    "future_predict_senti = extract_first_column(future_predict)\n"
   ]
  },
  {
   "cell_type": "code",
   "execution_count": 35,
   "id": "5ae5182c",
   "metadata": {},
   "outputs": [
    {
     "data": {
      "image/png": "[encoded data removed]",
      "text/plain": [
       "<Figure size 800x400 with 1 Axes>"
      ]
     },
     "metadata": {},
     "output_type": "display_data"
    }
   ],
   "source": [
    "import matplotlib.pyplot as plt\n",
    "import numpy as np\n",
    "\n",
    "# Assuming 'dates', 'stock_open', 'train_predict_senti', 'test_predict_senti', 'future_predict_senti' are defined\n",
    "dates = np.array(index)\n",
    "stock_open = np.array(stock_open)\n",
    "train_predict_senti = np.array(train_predict_senti).flatten()\n",
    "test_predict_senti = np.array(test_predict_senti).flatten()\n",
    "\n",
    "# Create empty arrays for the plot\n",
    "trainPredictPlot = np.empty_like(stock_open)\n",
    "trainPredictPlot[:] = np.nan\n",
    "trainPredictPlot[n_steps:len(train_predict_senti)+n_steps] = train_predict_senti\n",
    "\n",
    "testPredictPlot = np.empty_like(stock_open)\n",
    "testPredictPlot[:] = np.nan\n",
    "testPredictPlot[len(train_predict_senti)+(n_steps*2):len(train_predict_senti)+(n_steps*2)+len(test_predict_senti)] = test_predict_senti\n",
    "\n",
    "# Flatten future_predict_senti\n",
    "future_predict_senti = np.array(future_predict_senti).flatten()\n",
    "\n",
    "# Create an array for the future prediction dates\n",
    "future_dates = np.arange(dates[-1] + np.timedelta64(1, 'D'), dates[-1] + np.timedelta64(window_size + 1, 'D'), np.timedelta64(1, 'D'))\n",
    "\n",
    "# Create an array for the plot\n",
    "futurePredictPlot = np.empty_like(np.concatenate((stock_open, np.full(window_size, np.nan))))\n",
    "futurePredictPlot[:] = np.nan\n",
    "futurePredictPlot[len(train_predict_senti) + (n_steps * 2) + len(test_predict_senti):] = future_predict_senti\n",
    "\n",
    "# Plotting\n",
    "plt.figure(figsize=(8,4))\n",
    "plt.plot(np.concatenate((dates, future_dates)), np.concatenate((stock_open, np.full(window_size, np.nan))), color='blue', label='Actual')\n",
    "plt.plot(dates, trainPredictPlot, color='orange', label='Train Predict')\n",
    "plt.plot(dates, testPredictPlot, color='green', label='Test Predict')\n",
    "plt.plot(np.concatenate((dates, future_dates)), futurePredictPlot, color='red', label='Future Predict')\n",
    "plt.xlabel('Date')\n",
    "plt.ylabel('Price')\n",
    "plt.title('Stock Prices along with sentiment score Over Time for LSTM')\n",
    "plt.legend()\n",
    "plt.show()\n"
   ]
  },
  {
   "cell_type": "code",
   "execution_count": 36,
   "id": "ac5cfdbd",
   "metadata": {},
   "outputs": [
    {
     "data": {
      "text/plain": [
       "array([189.01920267, 188.28354851, 187.28030627, 186.23256798])"
      ]
     },
     "execution_count": 36,
     "metadata": {},
     "output_type": "execute_result"
    }
   ],
   "source": [
    "future_predict_senti"
   ]
  },
  {
   "cell_type": "code",
   "execution_count": 37,
   "id": "5c3a2264",
   "metadata": {},
   "outputs": [
    {
     "name": "stdout",
     "output_type": "stream",
     "text": [
      "[*********************100%***********************]  1 of 1 completed\n"
     ]
    }
   ],
   "source": [
    "import yfinance as yf\n",
    "\n",
    "# Define the stock symbol and the date range\n",
    "symbol = 'AAPL'\n",
    "start_date = '2023-07-18'\n",
    "end_date = '2023-07-24'\n",
    "\n",
    "# Retrieve the stock data from Yahoo Finance\n",
    "data_ = yf.download(symbol, start=start_date, end=end_date)"
   ]
  },
  {
   "cell_type": "code",
   "execution_count": 38,
   "id": "244a1c1b",
   "metadata": {},
   "outputs": [
    {
     "data": {
      "text/plain": [
       "Date\n",
       "2023-07-18    193.350006\n",
       "2023-07-19    193.100006\n",
       "2023-07-20    195.089996\n",
       "2023-07-21    194.100006\n",
       "Name: Open, dtype: float64"
      ]
     },
     "execution_count": 38,
     "metadata": {},
     "output_type": "execute_result"
    }
   ],
   "source": [
    "data_.Open[:4]"
   ]
  },
  {
   "cell_type": "code",
   "execution_count": null,
   "id": "954f38b5",
   "metadata": {},
   "outputs": [],
   "source": []
  }
 ],
 "metadata": {
  "kernelspec": {
   "display_name": "Python 3 (ipykernel)",
   "language": "python",
   "name": "python3"
  },
  "language_info": {
   "codemirror_mode": {
    "name": "ipython",
    "version": 3
   },
   "file_extension": ".py",
   "mimetype": "text/x-python",
   "name": "python",
   "nbconvert_exporter": "python",
   "pygments_lexer": "ipython3",
   "version": "3.9.13"
  }
 },
 "nbformat": 4,
 "nbformat_minor": 5
}
